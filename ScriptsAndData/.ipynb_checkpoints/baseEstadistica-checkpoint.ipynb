{
 "cells": [
  {
   "cell_type": "code",
   "execution_count": null,
   "metadata": {
    "scrolled": true
   },
   "outputs": [],
   "source": [
    "# Cargar funciones de la librería de python data analysis\n",
    "import pandas as pd \n",
    "\n",
    "# Leer csv con datos y cargar en el dataframe data\n",
    "data = pd.read_csv(\"data/stockprices.csv\") \n",
    "\n",
    "# Preview de las 5 primeras filas de data \n",
    "data.head()"
   ]
  },
  {
   "cell_type": "code",
   "execution_count": null,
   "metadata": {
    "scrolled": true
   },
   "outputs": [],
   "source": [
    "# Calcular la media de las variables numéricas\n",
    "data.mean()"
   ]
  },
  {
   "cell_type": "code",
   "execution_count": null,
   "metadata": {},
   "outputs": [],
   "source": [
    "data.median()"
   ]
  },
  {
   "cell_type": "code",
   "execution_count": null,
   "metadata": {},
   "outputs": [],
   "source": [
    "data.mode()"
   ]
  },
  {
   "cell_type": "code",
   "execution_count": null,
   "metadata": {},
   "outputs": [],
   "source": [
    "data.std()"
   ]
  },
  {
   "cell_type": "code",
   "execution_count": null,
   "metadata": {},
   "outputs": [],
   "source": [
    "# Summary stats del dataframe\n",
    "data.describe()"
   ]
  },
  {
   "cell_type": "code",
   "execution_count": null,
   "metadata": {},
   "outputs": [],
   "source": [
    "# Matriz de covarianzas\n",
    "data.cov()\n",
    "\n",
    "# Calcular variables con correlacion positiva o negativa superior a un umbral\n",
    "corMatrix = data.corr()\n",
    "corMatrix[(abs(corMatrix) > 0.75) & (corMatrix <> 1)]['nasdaq'].dropna()\n",
    "\n",
    "\n",
    "data.boxplot(column=['aapl'])"
   ]
  },
  {
   "cell_type": "code",
   "execution_count": null,
   "metadata": {},
   "outputs": [],
   "source": [
    "# Matriz de correlaciones\n",
    "data.corr()"
   ]
  },
  {
   "cell_type": "code",
   "execution_count": null,
   "metadata": {},
   "outputs": [],
   "source": [
    "# Cargar funciones de la librería de python matplot\n",
    "import matplotlib.pyplot as plt \n",
    "\n",
    "# Scatterplot google y nasdaq\n",
    "data.plot.scatter(x='goog', y='nasdaq', c='DarkBlue')"
   ]
  },
  {
   "cell_type": "code",
   "execution_count": null,
   "metadata": {},
   "outputs": [],
   "source": [
    "# Cargar funciones de la librería de python sklearn y math\n",
    "from sklearn.linear_model import LinearRegression\n",
    "from sklearn.metrics import mean_squared_error\n",
    "from math import sqrt\n",
    "\n",
    "# Seleccionar variables correlacionadas\n",
    "df = data[['aapl','amzn','goog','nasdaq']]\n",
    "\n",
    "# Seleccionar x e y\n",
    "x = pd.DataFrame(df['goog']).iloc[0:200]\n",
    "y = pd.DataFrame(df['nasdaq']).iloc[0:200]\n",
    "x_val = pd.DataFrame(df['goog']).iloc[201:]\n",
    "y_val = pd.DataFrame(df['nasdaq']).iloc[201:]\n",
    "\n",
    "# entrenar el modelo y calcular predicciones\n",
    "model = LinearRegression()\n",
    "model.fit(x, y)\n",
    "y_pred = model.predict(x_val)\n",
    "\n",
    "# graficar variables y predicción lineal\n",
    "plt.scatter(x_val, y_val)\n",
    "plt.plot(x_val, y_pred, color='red')\n",
    "plt.show()\n",
    "\n",
    "# calcular coeficiente r2 y pearson\n",
    "print(\"Coeficiente r2: \" + str(model.score(x, y)))\n",
    "print(\"Coeficiente de Pearson (r): \" + str(sqrt(model.score(x, y))))\n",
    "\n",
    "# calcular root mean square error (RMSE)\n",
    "print(\"Raíz del Error cuadrático Medio (RMSE): \" + str(sqrt(mean_squared_error(y_val, y_pred))))\n",
    "print(\"Media de Nasdaq: \" + str(y_val['nasdaq'].mean()))\n",
    "print(\"% de error: \" + str(sqrt(mean_squared_error(y_val, y_pred)) / y_val['nasdaq'].mean()))\n"
   ]
  },
  {
   "cell_type": "code",
   "execution_count": null,
   "metadata": {},
   "outputs": [],
   "source": [
    "import matplotlib.pyplot as plt  \n",
    "import pandas as pd  \n",
    "from sklearn.linear_model import LinearRegression\n",
    "\n",
    "# Seleccionar variables correlacionadas\n",
    "df = data[['aapl','amzn','goog','nasdaq']]\n",
    "\n",
    "# Seleccionar x e y\n",
    "x = pd.DataFrame(df[['aapl','amzn','goog']]).iloc[0:200]\n",
    "y = pd.DataFrame(df['nasdaq']).iloc[0:200]\n",
    "x_val = pd.DataFrame(df[['aapl','amzn','goog']]).iloc[201:]\n",
    "y_val = pd.DataFrame(df['nasdaq']).iloc[201:]\n",
    "\n",
    "# entrenar el modelo y calcular predicciones\n",
    "model = LinearRegression()\n",
    "model.fit(x, y)\n",
    "y_pred = model.predict(x_val)\n",
    "\n",
    "# calcular coeficiente r2 y pearson\n",
    "print(\"Coeficiente r2: \" + str(model.score(x, y)))\n",
    "print(\"Coeficiente de Pearson (r): \" + str(sqrt(model.score(x, y))))\n",
    "\n",
    "# calcular root mean square error (RMSE)\n",
    "print(\"Raíz del Error cuadrático Medio (RMSE): \" + str(sqrt(mean_squared_error(y_val, y_pred))))\n",
    "print(\"Media de Nasdaq: \" + str(y_val['nasdaq'].mean()))\n",
    "print(\"% de error: \" + str(sqrt(mean_squared_error(y_val, y_pred)) / y_val['nasdaq'].mean()))"
   ]
  },
  {
   "cell_type": "code",
   "execution_count": null,
   "metadata": {},
   "outputs": [],
   "source": [
    "from sklearn.decomposition import PCA\n",
    "from sklearn.linear_model import LinearRegression\n",
    "import pandas as pd  \n",
    "\n",
    "x = data.iloc[0:200,1:28]\n",
    "x_val = data.iloc[200:,1:28]\n",
    "y = data.iloc[0:200,28:]\n",
    "y_val = data.iloc[200:,28:]\n",
    "\n",
    "# Crear PCA, 4 componentes, explica el 98,8% de varianza acumulada\n",
    "pca = PCA(n_components = 4)\n",
    "x = pca.fit_transform(x)\n",
    "\n",
    "# Imprimir componentes y varianza acumulada\n",
    "print(x.shape)\n",
    "print(pca.explained_variance_)\n",
    "print(pca.explained_variance_ratio_)\n",
    "print(pca.explained_variance_ratio_.cumsum())\n",
    "print(pca.components_)\n",
    "\n",
    "# Transformar x_val\n",
    "x_val = pca.transform(x_val)\n",
    "\n",
    "# entrenar el modelo y calcular predicciones\n",
    "model = LinearRegression()\n",
    "model.fit(x, y)\n",
    "y_pred = model.predict(x_val)\n",
    "\n",
    "# calcular coeficiente r2 y pearson\n",
    "print(\"Coeficiente r2: \" + str(model.score(x, y)))\n",
    "print(\"Coeficiente de Pearson (r): \" + str(sqrt(model.score(x, y))))\n",
    "\n",
    "# calcular root mean square error (RMSE)\n",
    "print(\"Raíz del Error cuadrático Medio (RMSE): \" + str(sqrt(mean_squared_error(y_val, y_pred))))\n",
    "print(\"Media de Nasdaq: \" + str(y_val['nasdaq'].mean()))\n",
    "print(\"% de error: \" + str(sqrt(mean_squared_error(y_val, y_pred)) / y_val['nasdaq'].mean()))"
   ]
  },
  {
   "cell_type": "code",
   "execution_count": null,
   "metadata": {},
   "outputs": [],
   "source": []
  }
 ],
 "metadata": {
  "kernelspec": {
   "display_name": "Python 2",
   "language": "python",
   "name": "python2"
  },
  "language_info": {
   "codemirror_mode": {
    "name": "ipython",
    "version": 2
   },
   "file_extension": ".py",
   "mimetype": "text/x-python",
   "name": "python",
   "nbconvert_exporter": "python",
   "pygments_lexer": "ipython2",
   "version": "2.7.15"
  }
 },
 "nbformat": 4,
 "nbformat_minor": 2
}
