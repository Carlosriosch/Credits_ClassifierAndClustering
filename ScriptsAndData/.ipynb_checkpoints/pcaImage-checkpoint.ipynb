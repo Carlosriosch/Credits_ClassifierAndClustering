{
 "cells": [
  {
   "cell_type": "code",
   "execution_count": null,
   "metadata": {},
   "outputs": [],
   "source": [
    "# cargar matplotlib plot, image y PCA\n",
    "import matplotlib.pyplot as plt\n",
    "import matplotlib.image as mpimg\n",
    "from sklearn.decomposition import PCA\n",
    "\n",
    "# leer imagen png\n",
    "img=mpimg.imread('data/paul.png')\n",
    "\n",
    "# mostrar dimensiones (height, width, rgb) y la imagen\n",
    "print(img.shape)\n",
    "plt.imshow(img)"
   ]
  },
  {
   "cell_type": "code",
   "execution_count": null,
   "metadata": {},
   "outputs": [],
   "source": [
    "# cargar librería numpy para procesar array multidimensionales\n",
    "import numpy as np\n",
    "\n",
    "# transformar array tridimensional a bidimensional (3072= 1024 * 3)\n",
    "# PCA utiliza array bidimensionales\n",
    "img_r = np.reshape(img, (600, 3072)) \n",
    "print(img_r.shape)\n",
    "\n",
    "# crear PCA que explica el 98% de la varianza acumulada \n",
    "pca = PCA(n_components=0.98, svd_solver='full')\n",
    "\n",
    "# transformar, mostrar dimensiones y varianza acumulada\n",
    "img_c = pca.fit_transform(img_r)\n",
    "print(img_c.shape) \n",
    "print(np.sum(pca.explained_variance_ratio_))\n",
    "\n",
    "# invertir PCA y transformar a dimensiones originales\n",
    "temp = pca.inverse_transform(img_c)\n",
    "print(temp.shape) \n",
    "temp = np.reshape(temp, (600,1024,3))\n",
    "print(temp.shape)\n",
    "\n",
    "# mostrar imagen proyectada\n",
    "plt.imshow(temp)"
   ]
  },
  {
   "cell_type": "code",
   "execution_count": null,
   "metadata": {},
   "outputs": [],
   "source": []
  }
 ],
 "metadata": {
  "kernelspec": {
   "display_name": "Python 2",
   "language": "python",
   "name": "python2"
  },
  "language_info": {
   "codemirror_mode": {
    "name": "ipython",
    "version": 2
   },
   "file_extension": ".py",
   "mimetype": "text/x-python",
   "name": "python",
   "nbconvert_exporter": "python",
   "pygments_lexer": "ipython2",
   "version": "2.7.15"
  }
 },
 "nbformat": 4,
 "nbformat_minor": 2
}
