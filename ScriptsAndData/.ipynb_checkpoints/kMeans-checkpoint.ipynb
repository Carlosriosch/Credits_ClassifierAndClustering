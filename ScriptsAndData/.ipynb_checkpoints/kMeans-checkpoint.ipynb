{
 "cells": [
  {
   "cell_type": "code",
   "execution_count": null,
   "metadata": {},
   "outputs": [],
   "source": [
    "# Cargar funciones de la librería de python data analysis\n",
    "import pandas as pd \n",
    "import numpy as np\n",
    "\n",
    "# Leer csv con datos y cargar en el dataframe data\n",
    "data = pd.read_csv(\"data/creditos.csv\") \n",
    "\n",
    "# calcular variable edad a partir de fecha de solicitud - fecha de nacimiento\n",
    "data['fechaHora'] = pd.to_datetime(data['fechaHora'])\n",
    "data['nacimiento'] = pd.to_datetime(data['nacimiento'])\n",
    "data['edad'] = ((data['fechaHora']-data['nacimiento'])/np.timedelta64(1,'Y')).astype(int)\n",
    "\n",
    "data.head()"
   ]
  },
  {
   "cell_type": "code",
   "execution_count": null,
   "metadata": {},
   "outputs": [],
   "source": [
    "from sklearn.cluster import KMeans\n",
    "import matplotlib.pyplot as plt \n",
    "from sklearn import preprocessing\n",
    "\n",
    "df = data[['edad','cliente_nuevo_o_recurrente','monto_solicitado','tiene_ips',\n",
    "           'plazo_solicitado','ingreso_neto_mensual','resultadoFinal']]\n",
    "\n",
    "# One-hot encoding para variables categoricas\n",
    "x = pd.get_dummies(df)\n",
    "\n",
    "# Normalizacion a [0-1]\n",
    "min_max_scaler = preprocessing.MinMaxScaler()\n",
    "xNorm = pd.DataFrame(min_max_scaler.fit_transform(x.values))\n",
    "xNorm.head()"
   ]
  },
  {
   "cell_type": "code",
   "execution_count": null,
   "metadata": {},
   "outputs": [],
   "source": [
    "# Elbow Curve\n",
    "nc = range(1, 15)\n",
    "kmeans = [KMeans(n_clusters=i) for i in nc]\n",
    "score = [kmeans[i].fit(xNorm).score(xNorm) for i in range(len(kmeans))]\n",
    "\n",
    "plt.plot(nc, score, color='green') \n",
    "plt.xlabel('Clusters')\n",
    "plt.ylabel('Score')\n",
    "plt.title('Elbow Curve')\n",
    "plt.show()"
   ]
  },
  {
   "cell_type": "code",
   "execution_count": null,
   "metadata": {},
   "outputs": [],
   "source": [
    "kmeans = KMeans(n_clusters=100, max_iter=300, random_state=1)\n",
    "kmeans.fit(xNorm)\n",
    "print(\"Score: \" + str(kmeans.score(xNorm)))\n",
    "print(kmeans.labels_)\n",
    "#print(kmeans.cluster_centers_)\n",
    "\n",
    "clusters = pd.DataFrame(min_max_scaler.inverse_transform(kmeans.cluster_centers_), columns=x.columns)\n",
    "clusters['tiene_ips'] = clusters['tiene_ips'].round()\n",
    "clusters['cliente_nuevo_o_recurrente_N'] = clusters['cliente_nuevo_o_recurrente_N'].round()\n",
    "clusters['cliente_nuevo_o_recurrente_R'] = clusters['cliente_nuevo_o_recurrente_R'].round()\n",
    "clusters['resultadoFinal_BIEN'] = clusters['resultadoFinal_BIEN'].round()\n",
    "clusters['resultadoFinal_MAL'] = clusters['resultadoFinal_MAL'].round()\n",
    "clusters"
   ]
  },
  {
   "cell_type": "code",
   "execution_count": null,
   "metadata": {},
   "outputs": [],
   "source": []
  }
 ],
 "metadata": {
  "kernelspec": {
   "display_name": "Python 3",
   "language": "python",
   "name": "python3"
  },
  "language_info": {
   "codemirror_mode": {
    "name": "ipython",
    "version": 3
   },
   "file_extension": ".py",
   "mimetype": "text/x-python",
   "name": "python",
   "nbconvert_exporter": "python",
   "pygments_lexer": "ipython3",
   "version": "3.7.6"
  }
 },
 "nbformat": 4,
 "nbformat_minor": 2
}
